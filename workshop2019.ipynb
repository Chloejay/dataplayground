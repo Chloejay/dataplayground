{
 "cells": [
  {
   "cell_type": "code",
   "execution_count": 1,
   "metadata": {},
   "outputs": [
    {
     "data": {
      "text/html": [
       "\n",
       "            <div>\n",
       "                <p><b>SparkSession - hive</b></p>\n",
       "                \n",
       "        <div>\n",
       "            <p><b>SparkContext</b></p>\n",
       "\n",
       "            <p><a href=\"http://10.1.0.240:4040\">Spark UI</a></p>\n",
       "\n",
       "            <dl>\n",
       "              <dt>Version</dt>\n",
       "                <dd><code>v2.4.0</code></dd>\n",
       "              <dt>Master</dt>\n",
       "                <dd><code>local[*]</code></dd>\n",
       "              <dt>AppName</dt>\n",
       "                <dd><code>PySparkShell</code></dd>\n",
       "            </dl>\n",
       "        </div>\n",
       "        \n",
       "            </div>\n",
       "        "
      ],
      "text/plain": [
       "<pyspark.sql.session.SparkSession at 0x109d3bcf8>"
      ]
     },
     "execution_count": 1,
     "metadata": {},
     "output_type": "execute_result"
    }
   ],
   "source": [
    "spark"
   ]
  },
  {
   "cell_type": "code",
   "execution_count": 2,
   "metadata": {},
   "outputs": [],
   "source": [
    "from pyspark import SparkContext\n",
    "from pyspark.sql import SparkSession\n",
    "from pyspark.sql import SQLContext\n",
    "from pyspark.sql.functions import *\n",
    "from pyspark.sql.types import *  \n",
    "#sc = SparkContext(appName = \"workshop2019\") \n",
    "#spark = SparkSession.Builder().getOrCreate() "
   ]
  },
  {
   "cell_type": "markdown",
   "metadata": {},
   "source": []
  },
  {
   "cell_type": "markdown",
   "metadata": {},
   "source": [
    "<a href='https://www.kaggle.com/kemical/kickstarter-projects'> Kickstarter-Project Kaggle data </a>  "
   ]
  },
  {
   "cell_type": "code",
   "execution_count": 3,
   "metadata": {},
   "outputs": [
    {
     "name": "stdout",
     "output_type": "stream",
     "text": [
      "kickstarter-projects.zip: Skipping, found more recently modified local copy (use --force to force download)\r\n"
     ]
    }
   ],
   "source": [
    "!kaggle datasets download -d kemical/kickstarter-projects\n",
    "#!chmod 600 /Users/chloe/.kaggle/kaggle.json  "
   ]
  },
  {
   "cell_type": "code",
   "execution_count": 4,
   "metadata": {},
   "outputs": [
    {
     "name": "stdout",
     "output_type": "stream",
     "text": [
      "/Users/chloe/spark-2.4.0-bin-hadoop2.6\r\n"
     ]
    }
   ],
   "source": [
    "!pwd"
   ]
  },
  {
   "cell_type": "code",
   "execution_count": 5,
   "metadata": {},
   "outputs": [],
   "source": [
    "movieDf= sc.textFile('/Users/chloe/.kaggle/datasets/kemical/kickstarter-projects') "
   ]
  },
  {
   "cell_type": "code",
   "execution_count": 6,
   "metadata": {},
   "outputs": [
    {
     "data": {
      "text/plain": [
       "1010122"
      ]
     },
     "execution_count": 6,
     "metadata": {},
     "output_type": "execute_result"
    }
   ],
   "source": [
    "movieDf.count() "
   ]
  },
  {
   "cell_type": "code",
   "execution_count": 7,
   "metadata": {},
   "outputs": [
    {
     "data": {
      "text/plain": [
       "['ID,name,category,main_category,currency,deadline,goal,launched,pledged,state,backers,country,usd pledged,usd_pledged_real,usd_goal_real',\n",
       " '1000002330,The Songs of Adelaide & Abullah,Poetry,Publishing,GBP,2015-10-09,1000.00,2015-08-11 12:12:28,0.00,failed,0,GB,0.00,0.00,1533.95',\n",
       " '1000003930,Greeting From Earth: ZGAC Arts Capsule For ET,Narrative Film,Film & Video,USD,2017-11-01,30000.00,2017-09-02 04:43:57,2421.00,failed,15,US,100.00,2421.00,30000.00',\n",
       " '1000004038,Where is Hank?,Narrative Film,Film & Video,USD,2013-02-26,45000.00,2013-01-12 00:20:50,220.00,failed,3,US,220.00,220.00,45000.00',\n",
       " '1000007540,ToshiCapital Rekordz Needs Help to Complete Album,Music,Music,USD,2012-04-16,5000.00,2012-03-17 03:24:11,1.00,failed,1,US,1.00,1.00,5000.00',\n",
       " '1000011046,Community Film Project: The Art of Neighborhood Filmmaking,Film & Video,Film & Video,USD,2015-08-29,19500.00,2015-07-04 08:35:03,1283.00,canceled,14,US,1283.00,1283.00,19500.00',\n",
       " '1000014025,Monarch Espresso Bar,Restaurants,Food,USD,2016-04-01,50000.00,2016-02-26 13:38:27,52375.00,successful,224,US,52375.00,52375.00,50000.00',\n",
       " '1000023410,Support Solar Roasted Coffee & Green Energy!  SolarCoffee.co,Food,Food,USD,2014-12-21,1000.00,2014-12-01 18:30:44,1205.00,successful,16,US,1205.00,1205.00,1000.00',\n",
       " '1000030581,Chaser Strips. Our Strips make Shots their B*tch!,Drinks,Food,USD,2016-03-17,25000.00,2016-02-01 20:05:12,453.00,failed,40,US,453.00,453.00,25000.00',\n",
       " '1000034518,SPIN - Premium Retractable In-Ear Headphones with Mic,Product Design,Design,USD,2014-05-29,125000.00,2014-04-24 18:14:43,8233.00,canceled,58,US,8233.00,8233.00,125000.00']"
      ]
     },
     "execution_count": 7,
     "metadata": {},
     "output_type": "execute_result"
    }
   ],
   "source": [
    "movieDf.take(10)  \n",
    "#data.TakeSample(true, n, seed) \n",
    "#data.count() #to know how many lines in the db  "
   ]
  },
  {
   "cell_type": "code",
   "execution_count": 8,
   "metadata": {},
   "outputs": [
    {
     "data": {
      "text/plain": [
       "/Users/chloe/.kaggle/datasets/kemical/kickstarter-projects MapPartitionsRDD[1] at textFile at NativeMethodAccessorImpl.java:0"
      ]
     },
     "execution_count": 8,
     "metadata": {},
     "output_type": "execute_result"
    }
   ],
   "source": [
    "movieDf.persist() #.cache() "
   ]
  },
  {
   "cell_type": "code",
   "execution_count": 9,
   "metadata": {},
   "outputs": [
    {
     "data": {
      "text/plain": [
       "PythonRDD[4] at RDD at PythonRDD.scala:53"
      ]
     },
     "execution_count": 9,
     "metadata": {},
     "output_type": "execute_result"
    }
   ],
   "source": [
    "movieDf.map(lambda x: x[10]).filter(lambda x: x=='DE') "
   ]
  },
  {
   "cell_type": "code",
   "execution_count": 10,
   "metadata": {},
   "outputs": [
    {
     "name": "stdout",
     "output_type": "stream",
     "text": [
      "+----------+--------------------+--------------------+-------------+--------+----------+----------+-------------------+-------------------+----------+----------+-------+-----------+----------------+-------------+\n",
      "|        ID|                name|            category|main_category|currency|  deadline|      goal|           launched|            pledged|     state|   backers|country|usd pledged|usd_pledged_real|usd_goal_real|\n",
      "+----------+--------------------+--------------------+-------------+--------+----------+----------+-------------------+-------------------+----------+----------+-------+-----------+----------------+-------------+\n",
      "|1000002330|The Songs of Adel...|              Poetry|   Publishing|     GBP|2015-10-09|   1000.00|2015-08-11 12:12:28|               0.00|    failed|         0|     GB|       0.00|            0.00|      1533.95|\n",
      "|1000003930|Greeting From Ear...|      Narrative Film| Film & Video|     USD|2017-11-01|  30000.00|2017-09-02 04:43:57|            2421.00|    failed|        15|     US|     100.00|         2421.00|     30000.00|\n",
      "|1000004038|      Where is Hank?|      Narrative Film| Film & Video|     USD|2013-02-26|  45000.00|2013-01-12 00:20:50|             220.00|    failed|         3|     US|     220.00|          220.00|     45000.00|\n",
      "|1000007540|ToshiCapital Reko...|               Music|        Music|     USD|2012-04-16|   5000.00|2012-03-17 03:24:11|               1.00|    failed|         1|     US|       1.00|            1.00|      5000.00|\n",
      "|1000011046|Community Film Pr...|        Film & Video| Film & Video|     USD|2015-08-29|  19500.00|2015-07-04 08:35:03|            1283.00|  canceled|        14|     US|    1283.00|         1283.00|     19500.00|\n",
      "|1000014025|Monarch Espresso Bar|         Restaurants|         Food|     USD|2016-04-01|  50000.00|2016-02-26 13:38:27|           52375.00|successful|       224|     US|   52375.00|        52375.00|     50000.00|\n",
      "|1000023410|Support Solar Roa...|                Food|         Food|     USD|2014-12-21|   1000.00|2014-12-01 18:30:44|            1205.00|successful|        16|     US|    1205.00|         1205.00|      1000.00|\n",
      "|1000030581|Chaser Strips. Ou...|              Drinks|         Food|     USD|2016-03-17|  25000.00|2016-02-01 20:05:12|             453.00|    failed|        40|     US|     453.00|          453.00|     25000.00|\n",
      "|1000034518|SPIN - Premium Re...|      Product Design|       Design|     USD|2014-05-29| 125000.00|2014-04-24 18:14:43|            8233.00|  canceled|        58|     US|    8233.00|         8233.00|    125000.00|\n",
      "| 100004195|STUDIO IN THE SKY...|         Documentary| Film & Video|     USD|2014-08-10|  65000.00|2014-07-11 21:55:48|            6240.57|  canceled|        43|     US|    6240.57|         6240.57|     65000.00|\n",
      "| 100004721| Of Jesus and Madmen|          Nonfiction|   Publishing|     CAD|2013-10-09|   2500.00|2013-09-09 18:19:37|               0.00|    failed|         0|     CA|       0.00|            0.00|      2406.39|\n",
      "| 100005484|    Lisa Lim New CD!|          Indie Rock|        Music|     USD|2013-04-08|  12500.00|2013-03-09 06:42:58|           12700.00|successful|       100|     US|   12700.00|        12700.00|     12500.00|\n",
      "|1000055792|  The Cottage Market|              Crafts|       Crafts|     USD|2014-10-02|   5000.00|2014-09-02 17:11:50|               0.00|    failed|         0|     US|       0.00|            0.00|      5000.00|\n",
      "|1000056157|G-Spot Place for ...|               Games|        Games|     USD|2016-03-25| 200000.00|2016-02-09 23:01:12|               0.00|    failed|         0|     US|       0.00|            0.00|    200000.00|\n",
      "|1000057089|Tombstone: Old We...|      Tabletop Games|        Games|     GBP|2017-05-03|   5000.00|2017-04-05 19:44:18|           94175.00|successful|       761|     GB|   57763.78|       121857.33|      6469.73|\n",
      "|1000064368|      Survival Rings|              Design|       Design|     USD|2015-02-28|   2500.00|2015-01-29 02:10:53|             664.00|    failed|        11|     US|     664.00|          664.00|      2500.00|\n",
      "|1000064918|           The Beard|         Comic Books|       Comics|     USD|2014-11-08|   1500.00|2014-10-09 22:27:52|             395.00|    failed|        16|     US|     395.00|          395.00|      1500.00|\n",
      "|1000068480|Notes From London...|           Art Books|   Publishing|     USD|2015-05-10|   3000.00|2015-04-10 21:20:54|             789.00|    failed|        20|     US|     789.00|          789.00|      3000.00|\n",
      "|1000070642|Mike Corey's Dark...|               Music|        Music|     USD|2012-08-17|    250.00|2012-08-02 14:11:32|             250.00|successful|         7|     US|     250.00|          250.00|       250.00|\n",
      "|1000071625|            Boco Tea|                Food|         Food|     USD|2012-06-02|   5000.00|2012-05-03 17:24:32|            1781.00|    failed|        40|     US|    1781.00|         1781.00|      5000.00|\n",
      "|1000072011|CMUK. Shoes: Take...|             Fashion|      Fashion|     USD|2013-12-30|  20000.00|2013-11-25 07:06:11|           34268.00|successful|       624|     US|   34268.00|        34268.00|     20000.00|\n",
      "|1000081649|MikeyJ clothing b...|       Childrenswear|      Fashion|     AUD|2017-09-07|   2500.00|2017-08-08 01:20:20|               1.00|    failed|         1|     AU|       0.00|            0.81|      2026.10|\n",
      "|1000082254|Alice in Wonderla...|             Theater|      Theater|     USD|2014-06-15|   3500.00|2014-05-16 10:10:38|             650.00|    failed|        12|     US|     650.00|          650.00|      3500.00|\n",
      "|1000087442|Mountain brew: A ...|              Drinks|         Food|     NOK|2015-02-25|    500.00|2015-01-26 19:17:33|              48.00|    failed|         3|     NO|       6.18|            6.29|        65.55|\n",
      "|1000091520|The Book Zoo - A ...|              Comics|       Comics|     USD|2014-11-12|    175.00|2014-10-23 17:15:50|             701.66|successful|        66|     US|     701.66|          701.66|       175.00|\n",
      "|1000102741|Matt Cavenaugh & ...|               Music|        Music|     USD|2011-01-06|  10000.00|2010-12-07 23:16:50|           15827.00|successful|       147|     US|   15827.00|        15827.00|     10000.00|\n",
      "|1000103948|Superhero Teddy Bear|                 DIY|       Crafts|     GBP|2016-01-05|  12000.00|2015-12-06 20:09:06|               0.00|    failed|         0|     GB|       0.00|            0.00|     17489.65|\n",
      "|1000104688| Permaculture Skills|           Webseries| Film & Video|     CAD|2014-12-14|  17757.00|2014-11-14 18:02:00|           48905.00|successful|       571|     CA|   43203.25|        42174.03|     15313.04|\n",
      "|1000104953|Rebel Army Origin...|              Comics|       Comics|     GBP|2016-01-28|    100.00|2015-12-29 16:59:29|             112.38|successful|        27|     GB|     167.70|          160.60|       142.91|\n",
      "| 100011318|My Moon - Animate...|           Animation| Film & Video|     USD|2017-05-03|  50000.00|2017-04-03 17:11:33|           57577.31|successful|       840|     US|   10120.00|        57577.31|     50000.00|\n",
      "|1000115172|   Daily Brew Coffee|         Food Trucks|         Food|     GBP|2015-03-31|   3500.00|2015-03-01 18:06:32|              21.00|    failed|         1|     GB|      32.42|           31.09|      5181.12|\n",
      "|1000117861|Ledr workbook: on...|      Product Design|       Design|     USD|2016-10-08|   1000.00|2016-09-07 13:14:26|           47266.00|successful|       549|     US|   11253.00|        47266.00|      1000.00|\n",
      "|1000120151|Feather Cast Furl...|      Product Design|       Design|     AUD|2015-08-22|   2000.00|2015-07-23 03:09:43|            2000.00|successful|        18|     AU|    1473.62|         1427.35|      1427.35|\n",
      "|1000120287|              BB130A|          Public Art|          Art|     USD|2013-03-24|  25000.00|2013-02-12 01:07:28|            1395.00|    failed|        30|     US|    1395.00|         1395.00|     25000.00|\n",
      "| 100012079|Chris Eger Band -...|               Music|        Music|     USD|2014-08-13|  12000.00|2014-07-14 22:35:51|           13260.00|successful|        92|     US|   13260.00|        13260.00|     12000.00|\n",
      "|1000129669|    Squatch Watchers|           Webseries| Film & Video|     USD|2013-08-23|  10000.00|2013-07-24 21:40:13|            1373.37|    failed|        54|     US|    1373.37|         1373.37|     10000.00|\n",
      "|1000131947|Arrows & Sound De...|          Indie Rock|        Music|     USD|2012-05-19|   4000.00|2012-04-19 01:04:31|            8641.34|successful|       157|     US|    8641.34|         8641.34|      4000.00|\n",
      "|1000132945|Zen in America: a...|         Documentary| Film & Video|     USD|2013-10-21|  10000.00|2013-09-21 23:00:54|           15663.00|successful|       213|     US|   15663.00|        15663.00|     10000.00|\n",
      "|1000134913|Galaxy: Winnie an...|        Illustration|          Art|     USD|2016-01-27|   3000.00|2015-12-23 21:47:29|              17.00|    failed|         2|     US|      17.00|           17.00|      3000.00|\n",
      "|1000146991|Help Scott Reynol...|          Indie Rock|        Music|     USD|2012-09-02|  15000.00|2012-08-03 18:43:16|           17499.99|successful|       277|     US|   17499.99|        17499.99|     15000.00|\n",
      "|1000149007|Unschooling To Un...|          Nonfiction|   Publishing|     CAD|2018-01-19|   3000.00|2017-11-20 18:15:14|             592.00|      live|        24|     CA|     185.65|          472.88|      2396.36|\n",
      "|1000153208|Phil Younger - Sl...|               Music|        Music|     USD|2016-12-20|   2100.00|2016-12-09 20:27:02|            2100.00|successful|        34|     US|      83.00|         2100.00|      2100.00|\n",
      "|1000160286|\"\"\"THE RETURN\"\" b...|         Photography|  Photography|     USD|2013-12-13|  15000.00|2013-11-13 00:34:20|           23907.00|successful|       232|     US|   23907.00|        23907.00|     15000.00|\n",
      "|1000170964|Penny Bingo Playi...|      Tabletop Games|        Games|     USD|2017-03-27|   1500.00|2017-03-02 04:01:43|             856.00|    failed|        25|     US|     324.00|          856.00|      1500.00|\n",
      "|1000171141|The Please, Pleas...|                 Pop|        Music|     USD|2012-09-01|  10000.00|2012-07-15 03:27:33|           12656.00|successful|       181|     US|   12656.00|        12656.00|     10000.00|\n",
      "|1000182258|WE ARE ONE: STREE...|         Documentary| Film & Video|     USD|2013-10-01|   2500.00|2013-08-27 20:17:27|               0.00|    failed|         0|     US|       0.00|            0.00|      2500.00|\n",
      "|1000183112|Hot Chicken Takes...|         Restaurants|         Food|     USD|2014-10-16|  40000.00|2014-09-16 02:31:08|           63401.00|successful|       855|     US|   63401.00|        63401.00|     40000.00|\n",
      "|1000184224|Star and the Snowman|      Narrative Film| Film & Video|     USD|2013-02-23|   8000.00|2013-01-24 06:04:05|            9401.00|successful|       154|     US|    9401.00|         9401.00|      8000.00|\n",
      "|1000190427|        Seas of Iron|      Tabletop Games|        Games|     USD|2013-07-19|   3000.00|2013-06-19 03:16:33|            8105.00|successful|       218|     US|    8105.00|         8105.00|      3000.00|\n",
      "|1000197321|(In)visible Empir...|          Public Art|          Art|     USD|2016-01-02|   1200.00|2015-11-22 22:47:44|              90.00|    failed|         4|     US|      90.00|           90.00|      1200.00|\n",
      "|1000201265|I'LL SEE YOU IN M...|      Narrative Film| Film & Video|     USD|2014-02-05|  60000.00|2014-01-11 00:57:14|           61365.16|successful|       632|     US|   61365.16|        61365.16|     60000.00|\n",
      "| 100020143|H2O The Underwate...|              People|  Photography|     USD|2017-10-30|   9500.00|2017-09-25 17:17:43|               6.00|    failed|         2|     US|       5.00|            6.00|      9500.00|\n",
      "|1000202062|SkateFrames-Photo...|                 Art|          Art|     USD|2015-05-08|   7500.00|2015-04-08 02:53:18|               3.00|    failed|         3|     US|       3.00|            3.00|      7500.00|\n",
      "|1000212914|A Teacher's Trave...|         Photography|  Photography|     USD|2012-05-13|   4000.00|2012-04-18 23:34:56|            4866.17|successful|        71|     US|    4866.17|         4866.17|      4000.00|\n",
      "|1000216800|Mothers Into Livi...|              Family| Film & Video|     USD|2014-06-19|  11000.00|2014-05-20 17:18:29|           11055.00|successful|        51|     US|   11055.00|        11055.00|     11000.00|\n",
      "|1000217634|Mobile barbecue &...|         Food Trucks|         Food|     USD|2014-10-23|  13750.00|2014-09-24 03:35:33|               1.00|    failed|         1|     US|       1.00|            1.00|     13750.00|\n",
      "|1000226576|Following the Cal...|             Fiction|   Publishing|     USD|2016-02-01|  13500.00|2016-01-02 08:06:07|               0.00|    failed|         0|     US|       0.00|            0.00|     13500.00|\n",
      "|1000227361|          UNDERWATER|        Film & Video| Film & Video|     USD|2012-03-26|   9500.00|2012-02-13 19:00:37|            9660.00|successful|       121|     US|    9660.00|         9660.00|      9500.00|\n",
      "|1000230071|The Fanalyzers: V...|           Webseries| Film & Video|     USD|2013-10-18|  60000.00|2013-09-18 20:20:00|             635.00|    failed|         5|     US|     635.00|          635.00|     60000.00|\n",
      "|1000232288|      Empires at Sea|      Tabletop Games|        Games|     USD|2015-06-23|  25000.00|2015-05-24 12:47:52|           37199.00|successful|       448|     US|   37199.00|        37199.00|     25000.00|\n",
      "|1000233415| Teachers In The Sky|         Documentary| Film & Video|     USD|2016-06-18| 250000.00|2016-04-19 23:53:22|              65.00|    failed|         2|     US|      65.00|           65.00|    250000.00|\n",
      "|1000234595|Fashion removeabl...|         Accessories|      Fashion|     EUR|2016-10-13|  12000.00|2016-09-13 11:59:57|             137.00|    failed|         2|     IT|       0.00|          150.73|     13202.34|\n",
      "|1000235465|TO RUSSIA WITH LO...|                 Art|          Art|     USD|2016-06-22|   5000.00|2016-05-23 18:10:04|             587.00|    failed|         8|     US|     587.00|          587.00|      5000.00|\n",
      "|1000235643|        HIIT Bottle™|              Drinks|         Food|     USD|2015-04-27|  15000.00|2015-03-13 18:33:08|          124998.00|successful|      2784|     US|  124998.00|       124998.00|     15000.00|\n",
      "|1000243793|\"\"\"JurassicJurass...|                Rock|        Music|     USD|2015-04-09|    850.00|2015-02-23 00:10:28|             485.00|    failed|        13|     US|     485.00|          485.00|       850.00|\n",
      "|1000245024|          Safer Home|            Hardware|   Technology|     CAD|2015-07-03|  50000.00|2015-06-03 05:52:43|               0.00|    failed|         0|     CA|       0.00|            0.00|     39739.31|\n",
      "|1000252415|\"Pantochino Produ...|      the Musical\"\"\"|      Theater| Theater|       USD|2011-07-08|           15000.00|2011-05-09 15:08:51|  15425.00|successful|    144|         US|        15425.00|     15425.00|\n",
      "|1000256230|Shreddit - Privac...|            Software|   Technology|     GBP|2017-07-02|   2000.00|2017-06-02 12:20:21|               0.00|    failed|         0|     GB|       0.00|            0.00|      2579.35|\n",
      "|1000256760|Raise the Woof, e...|              Design|       Design|     CAD|2015-08-07|  15000.00|2015-07-08 21:46:53|             700.00|  canceled|         6|     CA|     553.32|          535.09|     11466.14|\n",
      "|1000257563|\"\"\"Flying\"\" Carpe...| Iran and Turkey/...|      Weaving|  Crafts|       GBP|2015-04-29|            5000.00|2015-03-30 19:55:31|      2.00|    failed|      1|         GB|            2.98|         3.09|\n",
      "|1000260691|Gizbee™ Unlimited...|             Gadgets|   Technology|     USD|2016-03-25|  87000.00|2016-02-29 20:30:27|            2030.00|  canceled|        15|     US|    2030.00|         2030.00|     87000.00|\n",
      "|1000261018|Diposta - liberat...|                 Web|   Technology|     USD|2016-08-23| 100000.00|2016-07-24 13:18:36|             141.00|    failed|         3|     US|     100.00|          141.00|    100000.00|\n",
      "|1000268182|My Future Just Pa...|                Jazz|        Music|     USD|2014-12-03|   4000.00|2014-11-03 21:11:44|            4795.00|successful|        95|     US|    4795.00|         4795.00|      4000.00|\n",
      "|1000278154|Loot and Recruit ...|      Tabletop Games|        Games|     USD|2015-04-10|  13000.00|2015-03-10 13:19:18|            2453.00|  canceled|        65|     US|    2453.00|         2453.00|     13000.00|\n",
      "|1000282287|Babe Ruth's Famil...|                Food|         Food|     USD|2015-10-13|  25000.00|2015-09-08 00:59:36|               0.00|  canceled|         0|     US|       0.00|            0.00|     25000.00|\n",
      "|1000291122|VOTE (anyone but)...|      Product Design|       Design|     GBP|2016-08-24|    500.00|2016-07-12 17:31:42|             218.00|    failed|         6|     GB|     174.83|          288.03|       660.62|\n",
      "|1000291263|\"\"\"It's Complicat...|       Ready-to-wear|      Fashion|     USD|2016-06-09|  68000.00|2016-05-10 22:52:00|               0.00|    failed|         0|     US|       0.00|            0.00|     68000.00|\n",
      "|1000294559|Secular Solstice ...|           Festivals|      Theater|     USD|2014-10-27|   7500.00|2014-10-02 01:50:58|            8157.01|successful|       164|     US|    8157.01|         8157.01|      7500.00|\n",
      "|1000320473|Uncommon Rhythm -...|        Film & Video| Film & Video|     USD|2013-09-13|  29700.00|2013-08-15 11:16:24|           10410.00|    failed|        76|     US|   10410.00|        10410.00|     29700.00|\n",
      "|1000328150|Legacy of Svarog ...|         Video Games|        Games|     USD|2015-10-30|  50000.00|2015-08-31 06:33:31|            1410.00|    failed|        38|     US|    1410.00|         1410.00|     50000.00|\n",
      "|1000328328|         ANVIL Beard|             Fashion|      Fashion|     GBP|2015-02-06|   2000.00|2014-12-15 19:13:37|              61.00|    failed|         9|     GB|      95.87|           93.44|      3063.58|\n",
      "|1000331311|AWE - Antediluvia...|      Tabletop Games|        Games|     USD|2014-08-31|  13000.00|2014-08-01 00:02:17|            1811.00|    failed|        34|     US|    1811.00|         1811.00|     13000.00|\n",
      "|1000332383|   Road to the Shire|         Documentary| Film & Video|     USD|2012-02-14|   4000.00|2012-01-11 20:13:55|            4045.00|successful|        29|     US|    4045.00|         4045.00|      4000.00|\n",
      "|1000333671|Spiral Electric S...|                Rock|        Music|     USD|2015-02-26|    500.00|2015-02-04 18:54:23|            1540.00|successful|        31|     US|    1540.00|         1540.00|       500.00|\n",
      "|1000334074|The Locals Only S...|             Fashion|      Fashion|     USD|2012-05-18|    500.00|2012-05-01 07:11:25|             754.82|successful|        36|     US|     754.82|          754.82|       500.00|\n",
      "|1000335422|\"\"\"Where is Home?...|         Anthologies|       Comics|     CAD|2014-07-10|   4000.00|2014-06-10 00:09:47|            4944.50|successful|       153|     CA|    4523.37|         4646.65|      3759.05|\n",
      "|1000338818|Diet! No thanks, ...|          Publishing|   Publishing|     EUR|2016-10-30|  10000.00|2016-08-31 18:13:01|              88.00|    failed|         9|     DE|      22.35|           97.62|     11092.99|\n",
      "|1000339877|The Onrust Projec...|             Theater|      Theater|     USD|2013-06-16|   5000.00|2013-04-17 00:58:02|             110.00|    failed|         2|     US|     110.00|          110.00|      5000.00|\n",
      "|1000340977|       My Coffee Box|              Drinks|         Food|     USD|2014-06-16|   3000.00|2014-05-17 22:43:36|            1027.00|    failed|        18|     US|    1027.00|         1027.00|      3000.00|\n",
      "|1000344383|¿Tu Sabes? (You K...|               Music|        Music|     USD|2012-12-13|   4500.00|2012-10-30 08:53:03|             409.00|    failed|        10|     US|     409.00|          409.00|      4500.00|\n",
      "|1000348690|The Silence of Ho...|      Tabletop Games|        Games|     EUR|2017-11-23|   5000.00|2017-10-24 16:58:01|           11238.00|successful|       346|     IT|    5509.51|        13347.43|      5938.52|\n",
      "|1000348776|P/O/V Comic and L...|              Comics|       Comics|     USD|2012-03-06|   4289.00|2012-01-21 18:25:26|             474.00|    failed|        14|     US|     474.00|          474.00|      4289.00|\n",
      "|1000354338|\"\"\"Little Shop of...|             Theater|      Theater|     USD|2012-08-14|   2000.00|2012-06-30 20:05:26|            2075.00|successful|        40|     US|    2075.00|         2075.00|      2000.00|\n",
      "|  10003650|Glyscian Debut Al...|                Rock|        Music|     USD|2012-05-26|  15000.00|2012-03-27 04:25:46|             151.00|  canceled|         4|     US|     151.00|          151.00|     15000.00|\n",
      "|1000374001|The Dark Waters P...|          Indie Rock|        Music|     USD|2013-04-07|  10000.00|2013-02-20 01:48:42|           10414.00|successful|       113|     US|   10414.00|        10414.00|     10000.00|\n",
      "|1000386601|Los Angeles Inter...|        Film & Video| Film & Video|     USD|2014-04-03|   1500.00|2014-03-04 17:24:51|            1932.99|successful|        29|     US|    1932.99|         1932.99|      1500.00|\n",
      "|1000389241|Bob Contemplates ...|              Shorts| Film & Video|     USD|2014-01-27|   3000.00|2013-12-18 20:54:02|            3755.00|successful|        52|     US|    3755.00|         3755.00|      3000.00|\n",
      "|1000392220|  The Girls Bathroom|           Webseries| Film & Video|     USD|2011-07-31|   2000.00|2011-07-06 16:35:45|            2252.99|successful|        45|     US|    2252.99|         2252.99|      2000.00|\n",
      "| 100039820|Best Spray Bottle...|             Gadgets|   Technology|     CAD|2015-03-07|  25000.00|2015-02-05 16:57:21|               3.00|    failed|         3|     CA|       2.41|            2.36|     19632.48|\n",
      "|1000399155|         New Lasagna|         Restaurants|         Food|     USD|2014-10-17|   5000.00|2014-08-18 11:13:15|               0.00|    failed|         0|     US|       0.00|            0.00|      5000.00|\n",
      "+----------+--------------------+--------------------+-------------+--------+----------+----------+-------------------+-------------------+----------+----------+-------+-----------+----------------+-------------+\n",
      "only showing top 100 rows\n",
      "\n",
      "root\n",
      " |-- ID: string (nullable = true)\n",
      " |-- name: string (nullable = true)\n",
      " |-- category: string (nullable = true)\n",
      " |-- main_category: string (nullable = true)\n",
      " |-- currency: string (nullable = true)\n",
      " |-- deadline: string (nullable = true)\n",
      " |-- goal: string (nullable = true)\n",
      " |-- launched: string (nullable = true)\n",
      " |-- pledged: string (nullable = true)\n",
      " |-- state: string (nullable = true)\n",
      " |-- backers: string (nullable = true)\n",
      " |-- country: string (nullable = true)\n",
      " |-- usd pledged: string (nullable = true)\n",
      " |-- usd_pledged_real: string (nullable = true)\n",
      " |-- usd_goal_real: string (nullable = true)\n",
      "\n"
     ]
    }
   ],
   "source": [
    "df = spark.read.format(\"com.databricks.spark.csv\").\\\n",
    "options(header=\"true\", \\\n",
    "        inferschema=\"true\").\\\n",
    "load(\"/Users/chloe/.kaggle/datasets/kemical/kickstarter-projects\",header=True) \n",
    "\n",
    "df.show(100)\n",
    "df.printSchema() "
   ]
  },
  {
   "cell_type": "code",
   "execution_count": 11,
   "metadata": {},
   "outputs": [
    {
     "data": {
      "text/plain": [
       "pyspark.sql.dataframe.DataFrame"
      ]
     },
     "execution_count": 11,
     "metadata": {},
     "output_type": "execute_result"
    }
   ],
   "source": [
    "type(df) "
   ]
  },
  {
   "cell_type": "code",
   "execution_count": 12,
   "metadata": {},
   "outputs": [
    {
     "name": "stdout",
     "output_type": "stream",
     "text": [
      "+----------+-------+---------------+--------------------+\n",
      "|        ID|country|       category|                name|\n",
      "+----------+-------+---------------+--------------------+\n",
      "| 100089599|     FR|        Apparel|CLOTHING LABEL WI...|\n",
      "|1000916036|     FR|Performance Art|Conference Paradi...|\n",
      "|1001216413|     FR| Product Design|Road Runner multi...|\n",
      "|1002597730|     FR|    Video Games|     Dungeons Heroes|\n",
      "| 100525355|     FR|    Video Games| The Stolen Crystals|\n",
      "+----------+-------+---------------+--------------------+\n",
      "only showing top 5 rows\n",
      "\n"
     ]
    }
   ],
   "source": [
    "df.filter(df['country']=='FR')\\\n",
    ".select(['ID','country','category', 'name']).show(5) "
   ]
  },
  {
   "cell_type": "code",
   "execution_count": 13,
   "metadata": {},
   "outputs": [
    {
     "name": "stdout",
     "output_type": "stream",
     "text": [
      "+-------+--------------+--------------------+------------+\n",
      "|country|      category|                name| usd pledged|\n",
      "+-------+--------------+--------------------+------------+\n",
      "|     FR|Product Design|Robust Domino - A...| 992.7245838|\n",
      "|     FR|Product Design|Robust Domino - A...|      992.72|\n",
      "|     FR|   Video Games|Pirates: Age of G...| 990.8334689|\n",
      "|     FR|   Video Games|Pirates: Age of G...|      990.83|\n",
      "|     FR|       Gadgets|Small GPS Tracker...|       99.30|\n",
      "|     FR|       Gadgets|Small GPS Tracker...| 99.29881456|\n",
      "|     FR|        Drinks|Khan Luxury Premi...|      989.26|\n",
      "|     FR|        Drinks|Khan Luxury Premi...|989.25669165|\n",
      "|     FR|Tabletop Games|StartUp, un jeu d...|      989.21|\n",
      "|     FR|Tabletop Games|StartUp, un jeu d...|989.20617978|\n",
      "+-------+--------------+--------------------+------------+\n",
      "only showing top 10 rows\n",
      "\n"
     ]
    }
   ],
   "source": [
    "df.filter(df['country']=='FR')\\\n",
    ".select(['country','category', 'name','usd pledged'])\\\n",
    ".orderBy(df['usd pledged'].desc(),df['name'])\\\n",
    ".show(10) "
   ]
  },
  {
   "cell_type": "code",
   "execution_count": 14,
   "metadata": {},
   "outputs": [
    {
     "name": "stdout",
     "output_type": "stream",
     "text": [
      "+--------------------+-----+\n",
      "|                name|count|\n",
      "+--------------------+-----+\n",
      "|WE ARE ONE: STREE...|    2|\n",
      "|The Great Kentuck...|    2|\n",
      "|Peak View Brewing...|    2|\n",
      "|Little Boy Wonder...|    2|\n",
      "|\"Artlysium Presen...|    2|\n",
      "|Gamerline Clothin...|    2|\n",
      "|Disgruntled Decks...|    2|\n",
      "|Thank You Letters...|    2|\n",
      "|Z Day by Lena Pen...|    2|\n",
      "|Fotomodel Lisa va...|    2|\n",
      "|\"Scorpius Dance T...|    2|\n",
      "|     Uncommon Action|    2|\n",
      "|Drift Plates X1 B...|    2|\n",
      "|           Revoltoso|    2|\n",
      "|quia non numquam ...|    2|\n",
      "|          The Farmer|    4|\n",
      "|Be a Turtle (and ...|    1|\n",
      "|    Hodgello's Blood|    2|\n",
      "|         Micro Match|    2|\n",
      "|              Knits+|    2|\n",
      "+--------------------+-----+\n",
      "only showing top 20 rows\n",
      "\n"
     ]
    }
   ],
   "source": [
    "df.groupBy('name').count().show() "
   ]
  },
  {
   "cell_type": "code",
   "execution_count": 15,
   "metadata": {},
   "outputs": [
    {
     "name": "stdout",
     "output_type": "stream",
     "text": [
      "+----------+--------------------+----------------+-------------+--------+----------+---------+-------------------+---------+----------+-------+-------+-----------+----------------+-------------+\n",
      "|        ID|                name|        category|main_category|currency|  deadline|     goal|           launched|  pledged|     state|backers|country|usd pledged|usd_pledged_real|usd_goal_real|\n",
      "+----------+--------------------+----------------+-------------+--------+----------+---------+-------------------+---------+----------+-------+-------+-----------+----------------+-------------+\n",
      "|1000338818|Diet! No thanks, ...|      Publishing|   Publishing|     EUR|2016-10-30| 10000.00|2016-08-31 18:13:01|    88.00|    failed|      9|     DE|      22.35|           97.62|     11092.99|\n",
      "|1001188527|Design Your Own L...|         Fashion|      Fashion|     EUR|2016-06-14|  2000.00|2016-05-29 22:04:54|  2028.00|successful|      7|     DE|    2254.15|         2282.32|      2250.81|\n",
      "|1001190550| Sanfilippo Wing it!|     Accessories|      Fashion|     EUR|2016-06-26| 10000.00|2016-05-15 22:43:59|   855.00|    failed|     25|     DE|     966.76|          952.04|     11134.99|\n",
      "|1001494526|       Dream Project|             Art|          Art|     EUR|2017-11-06|200000.00|2017-09-07 18:55:55|     0.00|    failed|      0|     DE|       0.00|            0.00|    233081.22|\n",
      "|1002250421|Spiele für iOS un...|    Mobile Games|        Games|     EUR|2015-06-24|  2000.00|2015-06-03 17:12:38|     1.00|  canceled|      1|     DE|       1.09|            1.12|      2240.39|\n",
      "| 100365021|Pappino - Dein Fo...|  Product Design|       Design|     EUR|2015-05-27|  2500.00|2015-05-12 10:05:08|   218.00|    failed|     15|     DE|     243.26|          239.15|      2742.49|\n",
      "|1003829191|    The Perfect Plan|           Drama| Film & Video|     EUR|2016-02-13|  3000.00|2016-01-14 23:24:57|     0.00|    failed|      0|     DE|       0.00|            0.00|      3328.78|\n",
      "|1004236435|The Atari ST and ...|     Anthologies|   Publishing|     EUR|2017-10-21| 30000.00|2017-09-21 20:00:16| 18827.50|  canceled|    336|     DE|    8274.42|        21849.25|     34814.90|\n",
      "|1004304382|Mars Transit game...|  Tabletop Games|        Games|     EUR|2015-11-12| 28000.00|2015-10-06 19:16:06|  2174.00|    failed|     14|     DE|    2443.68|         2340.10|     30139.29|\n",
      "|1005018489|Perfect Boots - F...|        Footwear|      Fashion|     EUR|2015-10-16| 20000.00|2015-09-16 21:12:51| 34411.00|successful|     79|     DE|   38934.75|        39090.97|     22720.04|\n",
      "|1005397520|REDS.box - Get yo...|        Hardware|   Technology|     EUR|2016-02-18| 50000.00|2016-01-19 12:01:32| 33916.00|    failed|    209|     DE|   36950.77|        37633.01|     55479.73|\n",
      "|1005423973|Bocusini - World'...|     3D Printing|   Technology|     EUR|2015-06-11| 30000.00|2015-05-12 09:42:41| 40581.00|successful|    149|     DE|   45283.87|        45531.66|     33659.83|\n",
      "|1006032032|Buddy day in Heid...|          People|  Photography|     EUR|2015-06-11|   200.00|2015-05-12 11:06:35|    13.00| suspended|      3|     DE|      14.51|           14.59|       224.40|\n",
      "| 100635918|World's first wir...|        Hardware|   Technology|     EUR|2016-05-26| 50000.00|2016-04-26 09:00:26|172228.00|successful|   1068|     DE|  193622.51|       192343.26|     55839.72|\n",
      "|1007634693|Fotomodel Lisa va...|      Public Art|          Art|     EUR|2015-08-01|  3000.00|2015-07-02 06:45:57|    19.00|    failed|      2|     DE|      21.16|           20.79|      3282.31|\n",
      "|1008225216|          OUTBUDDIES|     Video Games|        Games|     EUR|2017-05-02|  5000.00|2017-04-03 09:08:57|  6542.00|successful|    235|     DE|     158.76|         7170.65|      5480.47|\n",
      "|1008311896|TheOnlyOne (Cance...| Gaming Hardware|        Games|     EUR|2015-07-21| 15000.00|2015-06-21 12:15:01|    10.00|  canceled|      1|     DE|      11.35|           10.94|     16408.51|\n",
      "|1008824835|GAME OF THRONES P...|         Fantasy| Film & Video|     EUR|2016-10-26|  1500.00|2016-09-26 16:51:21|   224.00|    failed|      6|     DE|       1.12|          244.65|      1638.31|\n",
      "|1009154287|ZIPPELIN: An infl...|  Product Design|       Design|     EUR|2017-10-12|100000.00|2017-09-12 00:00:09|489019.45|successful|   1071|     DE|  148197.14|       577532.01|    118100.01|\n",
      "|1010382203|New Music for You...|Electronic Music|        Music|     EUR|2017-10-06|  2800.00|2017-08-22 11:29:52|    65.00|    failed|      3|     DE|       0.00|           76.10|      3277.96|\n",
      "+----------+--------------------+----------------+-------------+--------+----------+---------+-------------------+---------+----------+-------+-------+-----------+----------------+-------------+\n",
      "only showing top 20 rows\n",
      "\n"
     ]
    }
   ],
   "source": [
    "#Create a new DataFrame that contains\n",
    "dfDe=df.filter(df[\"country\"] == \"DE\")\n",
    "dfDe.show() "
   ]
  },
  {
   "cell_type": "code",
   "execution_count": 16,
   "metadata": {},
   "outputs": [
    {
     "name": "stdout",
     "output_type": "stream",
     "text": [
      "+----------+-----+\n",
      "|        ID|count|\n",
      "+----------+-----+\n",
      "|1416611683|    1|\n",
      "| 356478551|    1|\n",
      "|2128714441|    1|\n",
      "| 990214156|    1|\n",
      "|1510921674|    1|\n",
      "|1272340127|    1|\n",
      "| 887993863|    1|\n",
      "|1051661266|    1|\n",
      "|1857625797|    1|\n",
      "|1925949997|    1|\n",
      "| 465092390|    1|\n",
      "|  47356539|    1|\n",
      "|1413998257|    1|\n",
      "| 564146847|    1|\n",
      "|1329907294|    1|\n",
      "| 640636670|    1|\n",
      "|1513017719|    1|\n",
      "| 696699510|    1|\n",
      "|1350211746|    1|\n",
      "| 861644660|    1|\n",
      "+----------+-----+\n",
      "only showing top 20 rows\n",
      "\n"
     ]
    }
   ],
   "source": [
    "dfDe.groupBy('ID').count().sort(col('count'),asc=\"false\").show() "
   ]
  },
  {
   "cell_type": "code",
   "execution_count": 17,
   "metadata": {},
   "outputs": [
    {
     "name": "stdout",
     "output_type": "stream",
     "text": [
      "+----------+--------------------+----------------+-------------+--------+----------+---------+-------------------+---------+----------+-------+-------+-----------+----------------+-------------+\n",
      "|        ID|                name|        category|main_category|currency|  deadline|     goal|           launched|  pledged|     state|backers|country|usd pledged|usd_pledged_real|usd_goal_real|\n",
      "+----------+--------------------+----------------+-------------+--------+----------+---------+-------------------+---------+----------+-------+-------+-----------+----------------+-------------+\n",
      "|1000338818|Diet! No thanks, ...|      Publishing|   Publishing|     EUR|2016-10-30| 10000.00|2016-08-31 18:13:01|    88.00|    failed|      9|     DE|      22.35|           97.62|     11092.99|\n",
      "|1001188527|Design Your Own L...|         Fashion|      Fashion|     EUR|2016-06-14|  2000.00|2016-05-29 22:04:54|  2028.00|successful|      7|     DE|    2254.15|         2282.32|      2250.81|\n",
      "|1001190550| Sanfilippo Wing it!|     Accessories|      Fashion|     EUR|2016-06-26| 10000.00|2016-05-15 22:43:59|   855.00|    failed|     25|     DE|     966.76|          952.04|     11134.99|\n",
      "|1001494526|       Dream Project|             Art|          Art|     EUR|2017-11-06|200000.00|2017-09-07 18:55:55|     0.00|    failed|      0|     DE|       0.00|            0.00|    233081.22|\n",
      "|1002250421|Spiele für iOS un...|    Mobile Games|        Games|     EUR|2015-06-24|  2000.00|2015-06-03 17:12:38|     1.00|  canceled|      1|     DE|       1.09|            1.12|      2240.39|\n",
      "| 100365021|Pappino - Dein Fo...|  Product Design|       Design|     EUR|2015-05-27|  2500.00|2015-05-12 10:05:08|   218.00|    failed|     15|     DE|     243.26|          239.15|      2742.49|\n",
      "|1003829191|    The Perfect Plan|           Drama| Film & Video|     EUR|2016-02-13|  3000.00|2016-01-14 23:24:57|     0.00|    failed|      0|     DE|       0.00|            0.00|      3328.78|\n",
      "|1004236435|The Atari ST and ...|     Anthologies|   Publishing|     EUR|2017-10-21| 30000.00|2017-09-21 20:00:16| 18827.50|  canceled|    336|     DE|    8274.42|        21849.25|     34814.90|\n",
      "|1004304382|Mars Transit game...|  Tabletop Games|        Games|     EUR|2015-11-12| 28000.00|2015-10-06 19:16:06|  2174.00|    failed|     14|     DE|    2443.68|         2340.10|     30139.29|\n",
      "|1005018489|Perfect Boots - F...|        Footwear|      Fashion|     EUR|2015-10-16| 20000.00|2015-09-16 21:12:51| 34411.00|successful|     79|     DE|   38934.75|        39090.97|     22720.04|\n",
      "|1005397520|REDS.box - Get yo...|        Hardware|   Technology|     EUR|2016-02-18| 50000.00|2016-01-19 12:01:32| 33916.00|    failed|    209|     DE|   36950.77|        37633.01|     55479.73|\n",
      "|1005423973|Bocusini - World'...|     3D Printing|   Technology|     EUR|2015-06-11| 30000.00|2015-05-12 09:42:41| 40581.00|successful|    149|     DE|   45283.87|        45531.66|     33659.83|\n",
      "|1006032032|Buddy day in Heid...|          People|  Photography|     EUR|2015-06-11|   200.00|2015-05-12 11:06:35|    13.00| suspended|      3|     DE|      14.51|           14.59|       224.40|\n",
      "| 100635918|World's first wir...|        Hardware|   Technology|     EUR|2016-05-26| 50000.00|2016-04-26 09:00:26|172228.00|successful|   1068|     DE|  193622.51|       192343.26|     55839.72|\n",
      "|1007634693|Fotomodel Lisa va...|      Public Art|          Art|     EUR|2015-08-01|  3000.00|2015-07-02 06:45:57|    19.00|    failed|      2|     DE|      21.16|           20.79|      3282.31|\n",
      "|1008225216|          OUTBUDDIES|     Video Games|        Games|     EUR|2017-05-02|  5000.00|2017-04-03 09:08:57|  6542.00|successful|    235|     DE|     158.76|         7170.65|      5480.47|\n",
      "|1008311896|TheOnlyOne (Cance...| Gaming Hardware|        Games|     EUR|2015-07-21| 15000.00|2015-06-21 12:15:01|    10.00|  canceled|      1|     DE|      11.35|           10.94|     16408.51|\n",
      "|1008824835|GAME OF THRONES P...|         Fantasy| Film & Video|     EUR|2016-10-26|  1500.00|2016-09-26 16:51:21|   224.00|    failed|      6|     DE|       1.12|          244.65|      1638.31|\n",
      "|1009154287|ZIPPELIN: An infl...|  Product Design|       Design|     EUR|2017-10-12|100000.00|2017-09-12 00:00:09|489019.45|successful|   1071|     DE|  148197.14|       577532.01|    118100.01|\n",
      "|1010382203|New Music for You...|Electronic Music|        Music|     EUR|2017-10-06|  2800.00|2017-08-22 11:29:52|    65.00|    failed|      3|     DE|       0.00|           76.10|      3277.96|\n",
      "+----------+--------------------+----------------+-------------+--------+----------+---------+-------------------+---------+----------+-------+-------+-----------+----------------+-------------+\n",
      "only showing top 20 rows\n",
      "\n"
     ]
    }
   ],
   "source": [
    "#use Pandas-like syntax\n",
    "dfDE=df[df.country == 'DE']\n",
    "dfDE.show()  "
   ]
  },
  {
   "cell_type": "code",
   "execution_count": 18,
   "metadata": {},
   "outputs": [
    {
     "name": "stdout",
     "output_type": "stream",
     "text": [
      "+-------+------+\n",
      "|country| count|\n",
      "+-------+------+\n",
      "|     US|547916|\n",
      "|   null|304005|\n",
      "|     GB| 61102|\n",
      "|     CA| 26708|\n",
      "|     AU| 14048|\n",
      "|     DE|  6845|\n",
      "|     NL|  5121|\n",
      "|     FR|  4838|\n",
      "|     IT|  4616|\n",
      "|  N,0\"\"|  3790|\n",
      "|\"N,\"\"0\"|  3783|\n",
      "|     ES|  3643|\n",
      "|     SE|  3025|\n",
      "|     NZ|  2579|\n",
      "+-------+------+\n",
      "\n"
     ]
    }
   ],
   "source": [
    "from pyspark.sql.functions import desc\n",
    "#from pyspark.sql.functions import col \n",
    "\n",
    "df.groupBy('country').count().filter(\"`count`>2000\").sort(desc(\"count\")).show()  "
   ]
  },
  {
   "cell_type": "code",
   "execution_count": 19,
   "metadata": {},
   "outputs": [
    {
     "name": "stdout",
     "output_type": "stream",
     "text": [
      "+----------+-------+----------------+--------------------+-----------+\n",
      "|        ID|country|        category|                name|usd pledged|\n",
      "+----------+-------+----------------+--------------------+-----------+\n",
      "| 100635918|     DE|        Hardware|World's first wir...|  193622.51|\n",
      "|1009154287|     DE|  Product Design|ZIPPELIN: An infl...|  148197.14|\n",
      "|1021260036|     DE|        Hardware|YOUMO - Your Smar...|  197140.88|\n",
      "|1136359599|     DE|        Hardware|The first plug & ...|  615908.67|\n",
      "|  11439199|     DE|        Hardware|Kiën Light: Intel...|  133799.88|\n",
      "|1208264559|     DE|  Product Design|MIITO – the susta...|  912907.01|\n",
      "|1231508817|     DE|          Design|ComfyLight - The ...|  142252.29|\n",
      "|1248088162|     DE|        Hardware|Noki: The smart d...|  430201.74|\n",
      "| 126918586|     DE|Camera Equipment|solidLUUV: The Al...|  367300.46|\n",
      "|1365570388|     DE|      Technology|Mellow – The Elec...|  345900.84|\n",
      "|1392671263|     DE|      Technology|PACE - Mach dein ...|  378489.09|\n",
      "|1403246105|     DE|  Graphic Novels|In Search of Hann...|  174757.77|\n",
      "| 159719880|     DE|   Playing Cards|Token Collection:...|  103684.84|\n",
      "|1622698878|     DE|      Technology|COMMUNITY CUBE: T...|  104267.12|\n",
      "|1640384517|     DE|           Sound|FIELD KIT - Elect...|  145247.43|\n",
      "|1681385839|     DE|     Video Games|           EVERSPACE|  456272.12|\n",
      "|1708089320|     DE|       Wearables|Gauss - Redefinin...|  325065.82|\n",
      "|1782695007|     DE|         Gadgets|monkey. Keyless e...|  124410.50|\n",
      "|1824072137|     DE|     Video Games|    Cattle and Crops|  105957.22|\n",
      "| 183127037|     DE|        Hardware|DAN Cases A4-SFX ...|  272782.68|\n",
      "+----------+-------+----------------+--------------------+-----------+\n",
      "only showing top 20 rows\n",
      "\n"
     ]
    }
   ],
   "source": [
    "from pyspark.sql.functions import col \n",
    "df.filter(col('country')=='DE').filter(col('usd pledged')>100000) \\\n",
    ".select('ID','country', 'category','name','usd pledged').show()     "
   ]
  },
  {
   "cell_type": "code",
   "execution_count": 20,
   "metadata": {},
   "outputs": [
    {
     "name": "stdout",
     "output_type": "stream",
     "text": [
      "+----------+-------+----------------+--------------------+-----------+\n",
      "|        ID|country|        category|                name|usd pledged|\n",
      "+----------+-------+----------------+--------------------+-----------+\n",
      "|   1069403|     FR|  Product Design|Plastic Bottle Cu...|  396262.03|\n",
      "|1074092371|     FR|        Hardware|SilentKeys: A Key...|  123135.70|\n",
      "|  11436524|     FR|     Accessories|Watches / Vintage...|  216038.00|\n",
      "|1182528526|     FR|  Tabletop Games|Kharnage... Hell ...|  189200.77|\n",
      "|1186035417|     FR|  Tabletop Games|Heroes of Normand...|  225081.85|\n",
      "|1187599692|     FR|Camera Equipment|SteadXP - The Fut...|  565333.82|\n",
      "|  12134418|     FR|          Design|New AMIGA 1200 Ca...|  176145.80|\n",
      "|1222247098|     FR|  Tabletop Games|Fleet Commander -...|  238272.05|\n",
      "|1226388618|     FR|        Hardware|Mixfader - the wo...|  121378.48|\n",
      "|1228706685|     FR|  Product Design|BALTIC Watches: N...|  315006.32|\n",
      "|1290850818|     FR|  Product Design|Amazing furniture...|  126006.89|\n",
      "|1297013373|     FR|  Product Design|THE 2-IN-1 SWIM S...|  105669.92|\n",
      "|1314703764|     FR|     Video Games|   Fear Effect Sedna|  122419.62|\n",
      "|1322655029|     FR|     Video Games|    Canard PC Online|  293933.29|\n",
      "| 133508426|     FR|  Tabletop Games|       Clash of Rage|  111098.41|\n",
      "|1481534117|     FR|       Wearables|Percko - Wear it ...|  431355.23|\n",
      "|1587645749|     FR|  Product Design|On Wheelz : an aw...|  103917.44|\n",
      "| 159424438|     FR|  Product Design|MINI SAFE: The on...|  211962.94|\n",
      "|1660577044|     FR|      Technology|Véritable - The A...|  125752.94|\n",
      "|1700287946|     FR|  Product Design|Cirrus Shower: Re...|  173831.81|\n",
      "+----------+-------+----------------+--------------------+-----------+\n",
      "only showing top 20 rows\n",
      "\n"
     ]
    }
   ],
   "source": [
    "df.filter(col('country')=='FR').filter(col('usd pledged')>100000) \\\n",
    ".select('ID','country', 'category','name','usd pledged').show()     "
   ]
  },
  {
   "cell_type": "code",
   "execution_count": 21,
   "metadata": {},
   "outputs": [
    {
     "name": "stdout",
     "output_type": "stream",
     "text": [
      "+----------+--------------+--------------+--------------------+-----------+\n",
      "|        ID|(country = DE)|      category|         upper(name)|big pledged|\n",
      "+----------+--------------+--------------+--------------------+-----------+\n",
      "|1000002330|         false|        Poetry|THE SONGS OF ADEL...|      false|\n",
      "|1000003930|         false|Narrative Film|GREETING FROM EAR...|      false|\n",
      "|1000004038|         false|Narrative Film|      WHERE IS HANK?|      false|\n",
      "|1000007540|         false|         Music|TOSHICAPITAL REKO...|      false|\n",
      "|1000011046|         false|  Film & Video|COMMUNITY FILM PR...|      false|\n",
      "+----------+--------------+--------------+--------------------+-----------+\n",
      "only showing top 5 rows\n",
      "\n"
     ]
    }
   ],
   "source": [
    "df.select(df['ID'],df['country']=='DE', \\\n",
    "          df['category'],upper(df['name']),\\\n",
    "          (df['usd pledged']>200000).alias('big pledged'))\\\n",
    ".show(5)   "
   ]
  },
  {
   "cell_type": "code",
   "execution_count": 22,
   "metadata": {},
   "outputs": [
    {
     "name": "stdout",
     "output_type": "stream",
     "text": [
      "+--------------------+\n",
      "|      <lambda>(name)|\n",
      "+--------------------+\n",
      "|THE SONGS OF ADEL...|\n",
      "|GREETING FROM EAR...|\n",
      "|      WHERE IS HANK?|\n",
      "|TOSHICAPITAL REKO...|\n",
      "|COMMUNITY FILM PR...|\n",
      "+--------------------+\n",
      "only showing top 5 rows\n",
      "\n"
     ]
    }
   ],
   "source": [
    "from pyspark.sql.functions import udf\n",
    "upper = udf(lambda s: s.upper())\n",
    "df.select(upper(df['name'])).show(5)"
   ]
  },
  {
   "cell_type": "code",
   "execution_count": 23,
   "metadata": {},
   "outputs": [
    {
     "name": "stdout",
     "output_type": "stream",
     "text": [
      "+---+--------+-------+\n",
      "| id|    city|country|\n",
      "+---+--------+-------+\n",
      "|  1|  berlin|germany|\n",
      "|  2|shanghai|  china|\n",
      "|  3|new york|    usa|\n",
      "|  4|  london|     gb|\n",
      "+---+--------+-------+\n",
      "\n"
     ]
    }
   ],
   "source": [
    "from pyspark.sql import SQLContext\n",
    "\n",
    "sqlContext = SQLContext(sc)\n",
    "\n",
    "columns = ['id', 'city', 'country']\n",
    "vals = [(1, 'berlin', 'germany'),\n",
    "        (2, 'shanghai', 'china'),\n",
    "        (3,'new york', 'usa'),\n",
    "        (4, 'london', 'gb')\n",
    "]\n",
    "\n",
    "#dfCity= sqlContext.createDataFrame(vals, columns) \n",
    "dfCity= spark.createDataFrame(vals, columns) \n",
    "dfCity.show() \n",
    "#use sql func? "
   ]
  },
  {
   "cell_type": "code",
   "execution_count": 24,
   "metadata": {},
   "outputs": [
    {
     "name": "stdout",
     "output_type": "stream",
     "text": [
      "root\n",
      " |-- id: long (nullable = true)\n",
      " |-- city: string (nullable = true)\n",
      " |-- country: string (nullable = true)\n",
      "\n"
     ]
    }
   ],
   "source": [
    "dfCity.printSchema() "
   ]
  },
  {
   "cell_type": "code",
   "execution_count": 28,
   "metadata": {},
   "outputs": [
    {
     "name": "stdout",
     "output_type": "stream",
     "text": [
      "+----------+--------------------+--------------+-------------+--------+----------+---------+-------------------+--------+----------+-------+-------+-----------+----------------+-------------+\n",
      "|        ID|                name|      category|main_category|currency|  deadline|     goal|           launched| pledged|     state|backers|country|usd pledged|usd_pledged_real|usd_goal_real|\n",
      "+----------+--------------------+--------------+-------------+--------+----------+---------+-------------------+--------+----------+-------+-------+-----------+----------------+-------------+\n",
      "|1000002330|The Songs of Adel...|        Poetry|   Publishing|     GBP|2015-10-09|  1000.00|2015-08-11 12:12:28|    0.00|    failed|      0|     GB|       0.00|            0.00|      1533.95|\n",
      "|1000003930|Greeting From Ear...|Narrative Film| Film & Video|     USD|2017-11-01| 30000.00|2017-09-02 04:43:57| 2421.00|    failed|     15|     US|     100.00|         2421.00|     30000.00|\n",
      "|1000004038|      Where is Hank?|Narrative Film| Film & Video|     USD|2013-02-26| 45000.00|2013-01-12 00:20:50|  220.00|    failed|      3|     US|     220.00|          220.00|     45000.00|\n",
      "|1000007540|ToshiCapital Reko...|         Music|        Music|     USD|2012-04-16|  5000.00|2012-03-17 03:24:11|    1.00|    failed|      1|     US|       1.00|            1.00|      5000.00|\n",
      "|1000011046|Community Film Pr...|  Film & Video| Film & Video|     USD|2015-08-29| 19500.00|2015-07-04 08:35:03| 1283.00|  canceled|     14|     US|    1283.00|         1283.00|     19500.00|\n",
      "|1000014025|Monarch Espresso Bar|   Restaurants|         Food|     USD|2016-04-01| 50000.00|2016-02-26 13:38:27|52375.00|successful|    224|     US|   52375.00|        52375.00|     50000.00|\n",
      "|1000023410|Support Solar Roa...|          Food|         Food|     USD|2014-12-21|  1000.00|2014-12-01 18:30:44| 1205.00|successful|     16|     US|    1205.00|         1205.00|      1000.00|\n",
      "|1000030581|Chaser Strips. Ou...|        Drinks|         Food|     USD|2016-03-17| 25000.00|2016-02-01 20:05:12|  453.00|    failed|     40|     US|     453.00|          453.00|     25000.00|\n",
      "|1000034518|SPIN - Premium Re...|Product Design|       Design|     USD|2014-05-29|125000.00|2014-04-24 18:14:43| 8233.00|  canceled|     58|     US|    8233.00|         8233.00|    125000.00|\n",
      "| 100004195|STUDIO IN THE SKY...|   Documentary| Film & Video|     USD|2014-08-10| 65000.00|2014-07-11 21:55:48| 6240.57|  canceled|     43|     US|    6240.57|         6240.57|     65000.00|\n",
      "| 100004721| Of Jesus and Madmen|    Nonfiction|   Publishing|     CAD|2013-10-09|  2500.00|2013-09-09 18:19:37|    0.00|    failed|      0|     CA|       0.00|            0.00|      2406.39|\n",
      "| 100005484|    Lisa Lim New CD!|    Indie Rock|        Music|     USD|2013-04-08| 12500.00|2013-03-09 06:42:58|12700.00|successful|    100|     US|   12700.00|        12700.00|     12500.00|\n",
      "|1000055792|  The Cottage Market|        Crafts|       Crafts|     USD|2014-10-02|  5000.00|2014-09-02 17:11:50|    0.00|    failed|      0|     US|       0.00|            0.00|      5000.00|\n",
      "|1000056157|G-Spot Place for ...|         Games|        Games|     USD|2016-03-25|200000.00|2016-02-09 23:01:12|    0.00|    failed|      0|     US|       0.00|            0.00|    200000.00|\n",
      "|1000057089|Tombstone: Old We...|Tabletop Games|        Games|     GBP|2017-05-03|  5000.00|2017-04-05 19:44:18|94175.00|successful|    761|     GB|   57763.78|       121857.33|      6469.73|\n",
      "|1000064368|      Survival Rings|        Design|       Design|     USD|2015-02-28|  2500.00|2015-01-29 02:10:53|  664.00|    failed|     11|     US|     664.00|          664.00|      2500.00|\n",
      "|1000064918|           The Beard|   Comic Books|       Comics|     USD|2014-11-08|  1500.00|2014-10-09 22:27:52|  395.00|    failed|     16|     US|     395.00|          395.00|      1500.00|\n",
      "|1000068480|Notes From London...|     Art Books|   Publishing|     USD|2015-05-10|  3000.00|2015-04-10 21:20:54|  789.00|    failed|     20|     US|     789.00|          789.00|      3000.00|\n",
      "|1000070642|Mike Corey's Dark...|         Music|        Music|     USD|2012-08-17|   250.00|2012-08-02 14:11:32|  250.00|successful|      7|     US|     250.00|          250.00|       250.00|\n",
      "|1000071625|            Boco Tea|          Food|         Food|     USD|2012-06-02|  5000.00|2012-05-03 17:24:32| 1781.00|    failed|     40|     US|    1781.00|         1781.00|      5000.00|\n",
      "+----------+--------------------+--------------+-------------+--------+----------+---------+-------------------+--------+----------+-------+-------+-----------+----------------+-------------+\n",
      "only showing top 20 rows\n",
      "\n"
     ]
    }
   ],
   "source": [
    "#dataframe and sql can be mixed \n",
    "from pyspark.sql import SQLContext\n",
    "sqlContext=SQLContext(sc) \n",
    "df.createTempView(\"kickstarterView\")\n",
    "sqlContext.sql(\"SELECT * FROM kickstarterView\").show()  "
   ]
  },
  {
   "cell_type": "code",
   "execution_count": 40,
   "metadata": {},
   "outputs": [
    {
     "name": "stdout",
     "output_type": "stream",
     "text": [
      "+----------+--------------------+-----------+-------------+\n",
      "|        ID|                name|   category|  usd pledged|\n",
      "+----------+--------------------+-----------+-------------+\n",
      "|1812477194|\"\"\"A Piece for Yo...|        Art|       538.54|\n",
      "|1812477194|\"\"\"A Piece for Yo...|        Art|   538.538983|\n",
      "|1802330047|\"\"\"ARTH?LL\"\" is t...|Mixed Media|            0|\n",
      "|1802330047|\"\"\"ARTH?LL\"\" is t...|Mixed Media|         0.00|\n",
      "|2042114874|\"\"\"All is forgive...|      Music|            0|\n",
      "|2042114874|\"\"\"All is forgive...|      Music|         0.00|\n",
      "|1843275794|\"\"\"BERLIN black &...| Photobooks|1915.35455511|\n",
      "|1843275794|\"\"\"BERLIN black &...| Photobooks|      1915.35|\n",
      "|1252454045|\"\"\"BERLIN schwarz...|Photography|      2304.41|\n",
      "|1252454045|\"\"\"BERLIN schwarz...|Photography| 2304.4111506|\n",
      "+----------+--------------------+-----------+-------------+\n",
      "\n"
     ]
    }
   ],
   "source": [
    "sqlContext.sql('''\n",
    "SELECT ID, name, category, `usd pledged`\n",
    "    FROM kickstarterView \n",
    "    where country= 'DE'\n",
    "    ORDER BY name \n",
    "    limit 10 \n",
    "''').show()    "
   ]
  },
  {
   "cell_type": "code",
   "execution_count": null,
   "metadata": {},
   "outputs": [],
   "source": []
  }
 ],
 "metadata": {
  "kernelspec": {
   "display_name": "Python 3",
   "language": "python",
   "name": "python3"
  },
  "language_info": {
   "codemirror_mode": {
    "name": "ipython",
    "version": 3
   },
   "file_extension": ".py",
   "mimetype": "text/x-python",
   "name": "python",
   "nbconvert_exporter": "python",
   "pygments_lexer": "ipython3",
   "version": "3.6.5"
  }
 },
 "nbformat": 4,
 "nbformat_minor": 2
}
